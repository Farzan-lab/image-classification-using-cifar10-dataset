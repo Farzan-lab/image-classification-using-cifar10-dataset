{
  "nbformat": 4,
  "nbformat_minor": 0,
  "metadata": {
    "colab": {
      "name": "Welcome To Colaboratory",
      "provenance": [],
      "collapsed_sections": [],
      "toc_visible": true
    },
    "kernelspec": {
      "display_name": "Python 3",
      "name": "python3"
    },
    "accelerator": "GPU"
  },
  "cells": [
    {
      "cell_type": "markdown",
      "metadata": {
        "id": "vZ9sGC4yBhSF"
      },
      "source": [
        "import the **libraries**\n",
        "\n"
      ]
    },
    {
      "cell_type": "code",
      "metadata": {
        "id": "LRtI6gWzfVBU"
      },
      "source": [
        "import numpy as np\n",
        "import pandas as pd \n",
        "import matplotlib.pyplot as plt \n",
        "\n",
        "from sklearn.model_selection import train_test_split\n",
        "\n",
        "import tensorflow as tf \n",
        "from keras.datasets import cifar10\n",
        "from keras.utils.np_utils import to_categorical\n",
        "import keras"
      ],
      "execution_count": 4,
      "outputs": []
    },
    {
      "cell_type": "markdown",
      "metadata": {
        "id": "t1nNYLOzBZlH"
      },
      "source": [
        "**Load the dataset**"
      ]
    },
    {
      "cell_type": "code",
      "metadata": {
        "id": "3Yea2oWvgjYE",
        "outputId": "a0256f59-5ad2-4522-e828-158820dc7247",
        "colab": {
          "base_uri": "https://localhost:8080/"
        }
      },
      "source": [
        "(x_train,y_train),(x_test,y_test) = cifar10.load_data()\n"
      ],
      "execution_count": 5,
      "outputs": [
        {
          "output_type": "stream",
          "text": [
            "Downloading data from https://www.cs.toronto.edu/~kriz/cifar-10-python.tar.gz\n",
            "170500096/170498071 [==============================] - 4s 0us/step\n",
            "170508288/170498071 [==============================] - 4s 0us/step\n"
          ],
          "name": "stdout"
        }
      ]
    },
    {
      "cell_type": "code",
      "metadata": {
        "id": "bfg7MpzVfVKC",
        "outputId": "3992c83d-2c7d-494b-fbe9-a152bb91ee1e",
        "colab": {
          "base_uri": "https://localhost:8080/"
        }
      },
      "source": [
        "print(x_train.shape)\n",
        "print(y_train.shape)"
      ],
      "execution_count": 6,
      "outputs": [
        {
          "output_type": "stream",
          "text": [
            "(50000, 32, 32, 3)\n",
            "(50000, 1)\n"
          ],
          "name": "stdout"
        }
      ]
    },
    {
      "cell_type": "markdown",
      "metadata": {
        "id": "OHhTVu1UCEUb"
      },
      "source": [
        "در اینجا یکی بعد از دانلود دیتاست و تقسیم آن به 2 قسمت تست و آموزش هر قسمت را به دو قسمت برچسب ها و همچنین عکس ها تقسیم میکنیم \n",
        "\n",
        " برای پیدا کردن یک دید کلی در مورد دیتا ست و همچنین ابعاد آن ما با استفاده از دستور shape \n",
        " بخش آموزش را بررسی میکنیم \n",
        " که در این قسمت به 50,000 نمونه و هر کدام از نمونه ها در سایز 32*32 به همچنین تصاویر در سه رنگ قرمز و آبی و سبز هستند که این به این معنی است که تصاویر به صورت رنگی میباشند "
      ]
    },
    {
      "cell_type": "code",
      "metadata": {
        "id": "raSddlpNfVK9"
      },
      "source": [
        "def unison_shuffle(a, b):\n",
        "    inx = np.random.permutation(a.shape[0])\n",
        "    return a[inx], b[inx]"
      ],
      "execution_count": 32,
      "outputs": []
    },
    {
      "cell_type": "code",
      "metadata": {
        "id": "h-GK1kl9gkGO"
      },
      "source": [
        "X, y = unison_shuffle(x_train, y_train)"
      ],
      "execution_count": 33,
      "outputs": []
    },
    {
      "cell_type": "markdown",
      "metadata": {
        "id": "vGG6fUFvGbGv"
      },
      "source": [
        "با استفاده از دستور \n",
        "unison_shuffle\n",
        "میتوان بخش آموزش را مجدد\n",
        "تنظیم کنیم \n",
        "\n",
        "\n",
        "\n"
      ]
    },
    {
      "cell_type": "code",
      "metadata": {
        "id": "66jlvuuXgkw8",
        "outputId": "1358c1d8-312e-4569-e809-140e11253bbc",
        "colab": {
          "base_uri": "https://localhost:8080/",
          "height": 283
        }
      },
      "source": [
        "plt.imshow(X[120])"
      ],
      "execution_count": 74,
      "outputs": [
        {
          "output_type": "execute_result",
          "data": {
            "text/plain": [
              "<matplotlib.image.AxesImage at 0x7f950c208910>"
            ]
          },
          "metadata": {
            "tags": []
          },
          "execution_count": 74
        },
        {
          "output_type": "display_data",
          "data": {
            "image/png": "[encoded data removed]",
            "text/plain": [
              "<Figure size 432x288 with 1 Axes>"
            ]
          },
          "metadata": {
            "tags": [],
            "needs_background": "light"
          }
        }
      ]
    },
    {
      "cell_type": "code",
      "metadata": {
        "id": "1GTVx2Etgkxs"
      },
      "source": [
        "split = int(X.shape[0] * 0.8)\n",
        "\n",
        "X_train = X[:split]\n",
        "X_val = X[split:]\n",
        "\n",
        "y_train = y[:split]\n",
        "y_val = y[split:]"
      ],
      "execution_count": 35,
      "outputs": []
    },
    {
      "cell_type": "markdown",
      "metadata": {
        "id": "FhVTdvlTG6Nq"
      },
      "source": [
        "در این قسمت با استفاده از تابع اسپلیت میتوان بخش آموزش رابه دو بخش آموزش و آزمون تقسیم کرد \n",
        "که در این قسمت ما 80% داده هارا به آموزش و مابقی را به آزمون اختصاص میدهیم\n"
      ]
    },
    {
      "cell_type": "code",
      "metadata": {
        "id": "Fk4TLxOKgkyz"
      },
      "source": [
        "X_train = X_train / 255.\n",
        "X_val = X_val / 255."
      ],
      "execution_count": 36,
      "outputs": []
    },
    {
      "cell_type": "markdown",
      "metadata": {
        "id": "wKEKNnOyHQrb"
      },
      "source": [
        "در این قیمت هر کدام از \n",
        "\n",
        "\n",
        "```\n",
        "[link text](https://)\n",
        "```\n",
        "\n"
      ]
    },
    {
      "cell_type": "code",
      "metadata": {
        "id": "V8ymnc7an41u"
      },
      "source": [
        "Y_train = to_categorical(y_train)\n",
        "Y_val = to_categorical(y_val)"
      ],
      "execution_count": 44,
      "outputs": []
    },
    {
      "cell_type": "code",
      "metadata": {
        "id": "MEXnT5MMjHAB"
      },
      "source": [
        "import tensorflow\n",
        "from tensorflow.keras.datasets import mnist\n",
        "from tensorflow.keras.models import Sequential\n",
        "from tensorflow.keras.layers import Dense,Flatten\n",
        "from tensorflow.keras.utils import to_categorical\n",
        "import numpy as np\n",
        "input_shape = (3072,)\n",
        "model = Sequential()\n",
        "model.add(Flatten())\n",
        "model.add(Dense(350, input_shape=input_shape, activation='relu'))\n",
        "# model.add(Dense(100, activation='tanh'))\n",
        "# model.add(Dense(100, activation='relu'))\n",
        "model.add(Dense(10, activation='softmax'))"
      ],
      "execution_count": 53,
      "outputs": []
    },
    {
      "cell_type": "code",
      "metadata": {
        "id": "cBm97tghjcVn",
        "outputId": "900f1c82-c027-482e-b6a0-6dbee5916eb3",
        "colab": {
          "base_uri": "https://localhost:8080/"
        }
      },
      "source": [
        "\n",
        "model.compile(loss='categorical_crossentropy', optimizer='adam', metrics= \n",
        "['accuracy'])\n",
        "\n",
        "\n",
        "\n",
        "history = model.fit(X_train, Y_train, batch_size=40, epochs=30, validation_data=(X_val, Y_val))"
      ],
      "execution_count": 59,
      "outputs": [
        {
          "output_type": "stream",
          "text": [
            "Epoch 1/30\n",
            "1000/1000 [==============================] - 3s 3ms/step - loss: 1.1779 - accuracy: 0.5797 - val_loss: 1.7221 - val_accuracy: 0.4424\n",
            "Epoch 2/30\n",
            "1000/1000 [==============================] - 3s 3ms/step - loss: 1.1735 - accuracy: 0.5808 - val_loss: 1.6529 - val_accuracy: 0.4552\n",
            "Epoch 3/30\n",
            "1000/1000 [==============================] - 3s 3ms/step - loss: 1.1750 - accuracy: 0.5797 - val_loss: 1.6813 - val_accuracy: 0.4554\n",
            "Epoch 4/30\n",
            "1000/1000 [==============================] - 3s 3ms/step - loss: 1.1695 - accuracy: 0.5823 - val_loss: 1.6519 - val_accuracy: 0.4577\n",
            "Epoch 5/30\n",
            "1000/1000 [==============================] - 3s 3ms/step - loss: 1.1707 - accuracy: 0.5807 - val_loss: 1.6225 - val_accuracy: 0.4553\n",
            "Epoch 6/30\n",
            "1000/1000 [==============================] - 3s 3ms/step - loss: 1.1678 - accuracy: 0.5800 - val_loss: 1.6745 - val_accuracy: 0.4599\n",
            "Epoch 7/30\n",
            "1000/1000 [==============================] - 3s 3ms/step - loss: 1.1698 - accuracy: 0.5829 - val_loss: 1.6661 - val_accuracy: 0.4451\n",
            "Epoch 8/30\n",
            "1000/1000 [==============================] - 3s 3ms/step - loss: 1.1692 - accuracy: 0.5842 - val_loss: 1.6858 - val_accuracy: 0.4554\n",
            "Epoch 9/30\n",
            "1000/1000 [==============================] - 3s 3ms/step - loss: 1.1714 - accuracy: 0.5800 - val_loss: 1.6591 - val_accuracy: 0.4545\n",
            "Epoch 10/30\n",
            "1000/1000 [==============================] - 3s 3ms/step - loss: 1.1638 - accuracy: 0.5832 - val_loss: 1.6698 - val_accuracy: 0.4537\n",
            "Epoch 11/30\n",
            "1000/1000 [==============================] - 3s 3ms/step - loss: 1.1666 - accuracy: 0.5839 - val_loss: 1.7274 - val_accuracy: 0.4453\n",
            "Epoch 12/30\n",
            "1000/1000 [==============================] - 3s 3ms/step - loss: 1.1686 - accuracy: 0.5834 - val_loss: 1.6759 - val_accuracy: 0.4570\n",
            "Epoch 13/30\n",
            "1000/1000 [==============================] - 3s 3ms/step - loss: 1.1622 - accuracy: 0.5832 - val_loss: 1.6767 - val_accuracy: 0.4577\n",
            "Epoch 14/30\n",
            "1000/1000 [==============================] - 3s 3ms/step - loss: 1.1592 - accuracy: 0.5845 - val_loss: 1.6713 - val_accuracy: 0.4556\n",
            "Epoch 15/30\n",
            "1000/1000 [==============================] - 3s 3ms/step - loss: 1.1591 - accuracy: 0.5867 - val_loss: 1.6582 - val_accuracy: 0.4525\n",
            "Epoch 16/30\n",
            "1000/1000 [==============================] - 3s 3ms/step - loss: 1.1631 - accuracy: 0.5847 - val_loss: 1.7000 - val_accuracy: 0.4478\n",
            "Epoch 17/30\n",
            "1000/1000 [==============================] - 3s 3ms/step - loss: 1.1533 - accuracy: 0.5866 - val_loss: 1.6598 - val_accuracy: 0.4599\n",
            "Epoch 18/30\n",
            "1000/1000 [==============================] - 3s 3ms/step - loss: 1.1555 - accuracy: 0.5852 - val_loss: 1.6573 - val_accuracy: 0.4581\n",
            "Epoch 19/30\n",
            "1000/1000 [==============================] - 3s 3ms/step - loss: 1.1574 - accuracy: 0.5857 - val_loss: 1.6852 - val_accuracy: 0.4576\n",
            "Epoch 20/30\n",
            "1000/1000 [==============================] - 3s 3ms/step - loss: 1.1531 - accuracy: 0.5881 - val_loss: 1.6874 - val_accuracy: 0.4583\n",
            "Epoch 21/30\n",
            "1000/1000 [==============================] - 3s 3ms/step - loss: 1.1577 - accuracy: 0.5869 - val_loss: 1.6880 - val_accuracy: 0.4556\n",
            "Epoch 22/30\n",
            "1000/1000 [==============================] - 3s 3ms/step - loss: 1.1521 - accuracy: 0.5852 - val_loss: 1.6848 - val_accuracy: 0.4438\n",
            "Epoch 23/30\n",
            "1000/1000 [==============================] - 3s 3ms/step - loss: 1.1522 - accuracy: 0.5853 - val_loss: 1.7180 - val_accuracy: 0.4588\n",
            "Epoch 24/30\n",
            "1000/1000 [==============================] - 3s 3ms/step - loss: 1.1501 - accuracy: 0.5880 - val_loss: 1.6862 - val_accuracy: 0.4520\n",
            "Epoch 25/30\n",
            "1000/1000 [==============================] - 3s 3ms/step - loss: 1.1484 - accuracy: 0.5893 - val_loss: 1.6718 - val_accuracy: 0.4594\n",
            "Epoch 26/30\n",
            "1000/1000 [==============================] - 3s 3ms/step - loss: 1.1471 - accuracy: 0.5890 - val_loss: 1.6908 - val_accuracy: 0.4462\n",
            "Epoch 27/30\n",
            "1000/1000 [==============================] - 3s 3ms/step - loss: 1.1519 - accuracy: 0.5865 - val_loss: 1.6649 - val_accuracy: 0.4473\n",
            "Epoch 28/30\n",
            "1000/1000 [==============================] - 3s 3ms/step - loss: 1.1506 - accuracy: 0.5865 - val_loss: 1.7205 - val_accuracy: 0.4500\n",
            "Epoch 29/30\n",
            "1000/1000 [==============================] - 3s 3ms/step - loss: 1.1414 - accuracy: 0.5941 - val_loss: 1.6977 - val_accuracy: 0.4545\n",
            "Epoch 30/30\n",
            "1000/1000 [==============================] - 3s 3ms/step - loss: 1.1434 - accuracy: 0.5894 - val_loss: 1.6876 - val_accuracy: 0.4548\n"
          ],
          "name": "stdout"
        }
      ]
    },
    {
      "cell_type": "code",
      "metadata": {
        "id": "EQjblyZTiZWM",
        "outputId": "c1266fd5-6429-440c-fec2-822a4f99f3c1",
        "colab": {
          "base_uri": "https://localhost:8080/",
          "height": 284
        }
      },
      "source": [
        "plt.plot(history.history['accuracy'], 'b-')\n",
        "plt.plot(history.history['val_accuracy'], 'r-')"
      ],
      "execution_count": 60,
      "outputs": [
        {
          "output_type": "execute_result",
          "data": {
            "text/plain": [
              "[<matplotlib.lines.Line2D at 0x7f94e5eeea10>]"
            ]
          },
          "metadata": {
            "tags": []
          },
          "execution_count": 60
        },
        {
          "output_type": "display_data",
          "data": {
            "image/png": "[encoded data removed]",
            "text/plain": [
              "<Figure size 432x288 with 1 Axes>"
            ]
          },
          "metadata": {
            "tags": [],
            "needs_background": "light"
          }
        }
      ]
    },
    {
      "cell_type": "code",
      "metadata": {
        "id": "Si4iHdedlLSw",
        "outputId": "fdf33d6b-c92f-42aa-e3be-7e8cf785ed0a",
        "colab": {
          "base_uri": "https://localhost:8080/",
          "height": 282
        }
      },
      "source": [
        "plt.plot(history.history['loss'], 'b-')\n",
        "plt.plot(history.history['val_loss'], 'r-')"
      ],
      "execution_count": 61,
      "outputs": [
        {
          "output_type": "execute_result",
          "data": {
            "text/plain": [
              "[<matplotlib.lines.Line2D at 0x7f94e4e68a50>]"
            ]
          },
          "metadata": {
            "tags": []
          },
          "execution_count": 61
        },
        {
          "output_type": "display_data",
          "data": {
            "image/png": "[encoded data removed]",
            "text/plain": [
              "<Figure size 432x288 with 1 Axes>"
            ]
          },
          "metadata": {
            "tags": [],
            "needs_background": "light"
          }
        }
      ]
    },
    {
      "cell_type": "code",
      "metadata": {
        "id": "tnUUJKznrz-U"
      },
      "source": [
        "model = Sequential()\n",
        "model.add(Flatten())\n",
        "model.add(Dense(500, input_shape=input_shape, activation='sigmoid'))\n",
        "model.add(Dense(100, activation='ELU'))\n",
        "model.add(Dense(50, activation='relu'))\n",
        "model.add(Dense(10, activation='softmax'))"
      ],
      "execution_count": 68,
      "outputs": []
    },
    {
      "cell_type": "code",
      "metadata": {
        "id": "aIlrLe3ZuaSf"
      },
      "source": [
        "model.compile(loss='categorical_crossentropy', optimizer='adam', metrics= \n",
        "['accuracy'])"
      ],
      "execution_count": 69,
      "outputs": []
    },
    {
      "cell_type": "code",
      "metadata": {
        "id": "8j3jS5uqufhF",
        "outputId": "052eddfe-851f-4261-8ed0-d42bede7d13c",
        "colab": {
          "base_uri": "https://localhost:8080/"
        }
      },
      "source": [
        "history = model.fit(X_train, Y_train, batch_size=40, epochs=30, validation_data=(X_val, Y_val))"
      ],
      "execution_count": 70,
      "outputs": [
        {
          "output_type": "stream",
          "text": [
            "Epoch 1/30\n",
            "1000/1000 [==============================] - 4s 3ms/step - loss: 1.9315 - accuracy: 0.2894 - val_loss: 1.8321 - val_accuracy: 0.3307\n",
            "Epoch 2/30\n",
            "1000/1000 [==============================] - 3s 3ms/step - loss: 1.7952 - accuracy: 0.3426 - val_loss: 1.7413 - val_accuracy: 0.3683\n",
            "Epoch 3/30\n",
            "1000/1000 [==============================] - 3s 3ms/step - loss: 1.7499 - accuracy: 0.3639 - val_loss: 1.7087 - val_accuracy: 0.3805\n",
            "Epoch 4/30\n",
            "1000/1000 [==============================] - 3s 3ms/step - loss: 1.7042 - accuracy: 0.3793 - val_loss: 1.7063 - val_accuracy: 0.3800\n",
            "Epoch 5/30\n",
            "1000/1000 [==============================] - 3s 3ms/step - loss: 1.6714 - accuracy: 0.3954 - val_loss: 1.6973 - val_accuracy: 0.3770\n",
            "Epoch 6/30\n",
            "1000/1000 [==============================] - 3s 3ms/step - loss: 1.6525 - accuracy: 0.4020 - val_loss: 1.6764 - val_accuracy: 0.3901\n",
            "Epoch 7/30\n",
            "1000/1000 [==============================] - 3s 3ms/step - loss: 1.6373 - accuracy: 0.4098 - val_loss: 1.6509 - val_accuracy: 0.4106\n",
            "Epoch 8/30\n",
            "1000/1000 [==============================] - 3s 3ms/step - loss: 1.6144 - accuracy: 0.4155 - val_loss: 1.6309 - val_accuracy: 0.4164\n",
            "Epoch 9/30\n",
            "1000/1000 [==============================] - 3s 3ms/step - loss: 1.6069 - accuracy: 0.4224 - val_loss: 1.6308 - val_accuracy: 0.4171\n",
            "Epoch 10/30\n",
            "1000/1000 [==============================] - 3s 3ms/step - loss: 1.6027 - accuracy: 0.4245 - val_loss: 1.6473 - val_accuracy: 0.4038\n",
            "Epoch 11/30\n",
            "1000/1000 [==============================] - 3s 3ms/step - loss: 1.5901 - accuracy: 0.4277 - val_loss: 1.6411 - val_accuracy: 0.4078\n",
            "Epoch 12/30\n",
            "1000/1000 [==============================] - 3s 3ms/step - loss: 1.5731 - accuracy: 0.4318 - val_loss: 1.6227 - val_accuracy: 0.4158\n",
            "Epoch 13/30\n",
            "1000/1000 [==============================] - 3s 3ms/step - loss: 1.5618 - accuracy: 0.4378 - val_loss: 1.6373 - val_accuracy: 0.4084\n",
            "Epoch 14/30\n",
            "1000/1000 [==============================] - 3s 3ms/step - loss: 1.5455 - accuracy: 0.4432 - val_loss: 1.6945 - val_accuracy: 0.3896\n",
            "Epoch 15/30\n",
            "1000/1000 [==============================] - 3s 3ms/step - loss: 1.5298 - accuracy: 0.4480 - val_loss: 1.6361 - val_accuracy: 0.4083\n",
            "Epoch 16/30\n",
            "1000/1000 [==============================] - 3s 3ms/step - loss: 1.5263 - accuracy: 0.4473 - val_loss: 1.6212 - val_accuracy: 0.4175\n",
            "Epoch 17/30\n",
            "1000/1000 [==============================] - 3s 3ms/step - loss: 1.5273 - accuracy: 0.4509 - val_loss: 1.5699 - val_accuracy: 0.4302\n",
            "Epoch 18/30\n",
            "1000/1000 [==============================] - 3s 3ms/step - loss: 1.5164 - accuracy: 0.4530 - val_loss: 1.5815 - val_accuracy: 0.4299\n",
            "Epoch 19/30\n",
            "1000/1000 [==============================] - 3s 3ms/step - loss: 1.5086 - accuracy: 0.4550 - val_loss: 1.6442 - val_accuracy: 0.4125\n",
            "Epoch 20/30\n",
            "1000/1000 [==============================] - 3s 3ms/step - loss: 1.4996 - accuracy: 0.4599 - val_loss: 1.5830 - val_accuracy: 0.4304\n",
            "Epoch 21/30\n",
            "1000/1000 [==============================] - 3s 3ms/step - loss: 1.4876 - accuracy: 0.4634 - val_loss: 1.6059 - val_accuracy: 0.4249\n",
            "Epoch 22/30\n",
            "1000/1000 [==============================] - 3s 3ms/step - loss: 1.4828 - accuracy: 0.4639 - val_loss: 1.5951 - val_accuracy: 0.4252\n",
            "Epoch 23/30\n",
            "1000/1000 [==============================] - 3s 3ms/step - loss: 1.4715 - accuracy: 0.4690 - val_loss: 1.6047 - val_accuracy: 0.4203\n",
            "Epoch 24/30\n",
            "1000/1000 [==============================] - 3s 3ms/step - loss: 1.4659 - accuracy: 0.4727 - val_loss: 1.6557 - val_accuracy: 0.4215\n",
            "Epoch 25/30\n",
            "1000/1000 [==============================] - 3s 3ms/step - loss: 1.4592 - accuracy: 0.4759 - val_loss: 1.6143 - val_accuracy: 0.4260\n",
            "Epoch 26/30\n",
            "1000/1000 [==============================] - 3s 3ms/step - loss: 1.4633 - accuracy: 0.4724 - val_loss: 1.5750 - val_accuracy: 0.4324\n",
            "Epoch 27/30\n",
            "1000/1000 [==============================] - 3s 3ms/step - loss: 1.4515 - accuracy: 0.4762 - val_loss: 1.5778 - val_accuracy: 0.4402\n",
            "Epoch 28/30\n",
            "1000/1000 [==============================] - 3s 3ms/step - loss: 1.4365 - accuracy: 0.4834 - val_loss: 1.5883 - val_accuracy: 0.4239\n",
            "Epoch 29/30\n",
            "1000/1000 [==============================] - 3s 3ms/step - loss: 1.4303 - accuracy: 0.4853 - val_loss: 1.6242 - val_accuracy: 0.4357\n",
            "Epoch 30/30\n",
            "1000/1000 [==============================] - 3s 3ms/step - loss: 1.4268 - accuracy: 0.4847 - val_loss: 1.5873 - val_accuracy: 0.4299\n"
          ],
          "name": "stdout"
        }
      ]
    },
    {
      "cell_type": "code",
      "metadata": {
        "id": "F05-tpYZujT0",
        "outputId": "a240bcaa-670d-42b9-cc8e-6fb534117d0b",
        "colab": {
          "base_uri": "https://localhost:8080/",
          "height": 282
        }
      },
      "source": [
        "plt.plot(history.history['accuracy'], 'b-')\n",
        "plt.plot(history.history['val_accuracy'], 'r-')"
      ],
      "execution_count": 72,
      "outputs": [
        {
          "output_type": "execute_result",
          "data": {
            "text/plain": [
              "[<matplotlib.lines.Line2D at 0x7f94fa120590>]"
            ]
          },
          "metadata": {
            "tags": []
          },
          "execution_count": 72
        },
        {
          "output_type": "display_data",
          "data": {
            "image/png": "[encoded data removed]",
            "text/plain": [
              "<Figure size 432x288 with 1 Axes>"
            ]
          },
          "metadata": {
            "tags": [],
            "needs_background": "light"
          }
        }
      ]
    },
    {
      "cell_type": "code",
      "metadata": {
        "id": "tWfoetWoxH9f",
        "outputId": "83badc2b-52ad-4a81-b85c-5c752d8e7324",
        "colab": {
          "base_uri": "https://localhost:8080/",
          "height": 282
        }
      },
      "source": [
        "plt.plot(history.history['loss'], 'b-')\n",
        "plt.plot(history.history['val_loss'], 'r-')"
      ],
      "execution_count": 73,
      "outputs": [
        {
          "output_type": "execute_result",
          "data": {
            "text/plain": [
              "[<matplotlib.lines.Line2D at 0x7f94fa0481d0>]"
            ]
          },
          "metadata": {
            "tags": []
          },
          "execution_count": 73
        },
        {
          "output_type": "display_data",
          "data": {
            "image/png": "[encoded data removed]",
            "text/plain": [
              "<Figure size 432x288 with 1 Axes>"
            ]
          },
          "metadata": {
            "tags": [],
            "needs_background": "light"
          }
        }
      ]
    },
    {
      "cell_type": "code",
      "metadata": {
        "id": "vLCe0jx6xKs1"
      },
      "source": [
        "model = Sequential()\n",
        "model.add(Flatten())\n",
        "model.add(Dense(500, input_shape=input_shape, activation='sigmoid'))\n",
        "model.add(Dense(200, activation='ELU'))\n",
        "model.add(Dense(100, activation='relu'))\n",
        "model.add(Dense(50, activation='gelu'))\n",
        "model.add(Dense(10, activation='softmax'))"
      ],
      "execution_count": 75,
      "outputs": []
    },
    {
      "cell_type": "code",
      "metadata": {
        "id": "mi9Q3Ggoxu7_"
      },
      "source": [
        "model.compile(loss='categorical_crossentropy', optimizer='adam', metrics= \n",
        "['accuracy'])"
      ],
      "execution_count": 76,
      "outputs": []
    },
    {
      "cell_type": "code",
      "metadata": {
        "id": "LfZvZ7Dnx01A",
        "outputId": "e834ee08-7d22-46ff-c9cf-db77e262b3eb",
        "colab": {
          "base_uri": "https://localhost:8080/"
        }
      },
      "source": [
        "history = model.fit(X_train, Y_train, batch_size=40, epochs=30, validation_data=(X_val, Y_val))"
      ],
      "execution_count": 77,
      "outputs": [
        {
          "output_type": "stream",
          "text": [
            "Epoch 1/30\n",
            "1000/1000 [==============================] - 4s 4ms/step - loss: 1.9519 - accuracy: 0.2767 - val_loss: 1.8281 - val_accuracy: 0.3387\n",
            "Epoch 2/30\n",
            "1000/1000 [==============================] - 3s 3ms/step - loss: 1.8268 - accuracy: 0.3360 - val_loss: 1.7793 - val_accuracy: 0.3555\n",
            "Epoch 3/30\n",
            "1000/1000 [==============================] - 3s 3ms/step - loss: 1.7768 - accuracy: 0.3561 - val_loss: 1.7194 - val_accuracy: 0.3753\n",
            "Epoch 4/30\n",
            "1000/1000 [==============================] - 3s 3ms/step - loss: 1.7342 - accuracy: 0.3717 - val_loss: 1.7351 - val_accuracy: 0.3736\n",
            "Epoch 5/30\n",
            "1000/1000 [==============================] - 3s 3ms/step - loss: 1.7094 - accuracy: 0.3819 - val_loss: 1.7254 - val_accuracy: 0.3894\n",
            "Epoch 6/30\n",
            "1000/1000 [==============================] - 3s 3ms/step - loss: 1.6925 - accuracy: 0.3885 - val_loss: 1.7284 - val_accuracy: 0.3800\n",
            "Epoch 7/30\n",
            "1000/1000 [==============================] - 3s 3ms/step - loss: 1.6636 - accuracy: 0.3952 - val_loss: 1.6700 - val_accuracy: 0.3970\n",
            "Epoch 8/30\n",
            "1000/1000 [==============================] - 3s 3ms/step - loss: 1.6438 - accuracy: 0.4067 - val_loss: 1.6911 - val_accuracy: 0.3955\n",
            "Epoch 9/30\n",
            "1000/1000 [==============================] - 3s 3ms/step - loss: 1.6387 - accuracy: 0.4086 - val_loss: 1.6718 - val_accuracy: 0.3941\n",
            "Epoch 10/30\n",
            "1000/1000 [==============================] - 3s 3ms/step - loss: 1.6173 - accuracy: 0.4164 - val_loss: 1.6756 - val_accuracy: 0.3960\n",
            "Epoch 11/30\n",
            "1000/1000 [==============================] - 3s 3ms/step - loss: 1.6143 - accuracy: 0.4172 - val_loss: 1.6733 - val_accuracy: 0.3904\n",
            "Epoch 12/30\n",
            "1000/1000 [==============================] - 3s 3ms/step - loss: 1.6095 - accuracy: 0.4196 - val_loss: 1.6867 - val_accuracy: 0.4018\n",
            "Epoch 13/30\n",
            "1000/1000 [==============================] - 3s 3ms/step - loss: 1.5989 - accuracy: 0.4202 - val_loss: 1.6489 - val_accuracy: 0.4080\n",
            "Epoch 14/30\n",
            "1000/1000 [==============================] - 3s 3ms/step - loss: 1.5911 - accuracy: 0.4240 - val_loss: 1.6372 - val_accuracy: 0.4087\n",
            "Epoch 15/30\n",
            "1000/1000 [==============================] - 3s 3ms/step - loss: 1.5799 - accuracy: 0.4280 - val_loss: 1.6741 - val_accuracy: 0.4044\n",
            "Epoch 16/30\n",
            "1000/1000 [==============================] - 3s 3ms/step - loss: 1.5630 - accuracy: 0.4347 - val_loss: 1.6675 - val_accuracy: 0.4093\n",
            "Epoch 17/30\n",
            "1000/1000 [==============================] - 3s 3ms/step - loss: 1.5553 - accuracy: 0.4385 - val_loss: 1.6505 - val_accuracy: 0.4068\n",
            "Epoch 18/30\n",
            "1000/1000 [==============================] - 3s 3ms/step - loss: 1.5443 - accuracy: 0.4451 - val_loss: 1.6608 - val_accuracy: 0.4121\n",
            "Epoch 19/30\n",
            "1000/1000 [==============================] - 3s 3ms/step - loss: 1.5348 - accuracy: 0.4462 - val_loss: 1.6840 - val_accuracy: 0.4072\n",
            "Epoch 20/30\n",
            "1000/1000 [==============================] - 3s 3ms/step - loss: 1.5266 - accuracy: 0.4497 - val_loss: 1.6343 - val_accuracy: 0.4201\n",
            "Epoch 21/30\n",
            "1000/1000 [==============================] - 3s 3ms/step - loss: 1.5246 - accuracy: 0.4505 - val_loss: 1.6323 - val_accuracy: 0.4190\n",
            "Epoch 22/30\n",
            "1000/1000 [==============================] - 3s 3ms/step - loss: 1.5163 - accuracy: 0.4525 - val_loss: 1.6089 - val_accuracy: 0.4276\n",
            "Epoch 23/30\n",
            "1000/1000 [==============================] - 3s 3ms/step - loss: 1.5074 - accuracy: 0.4553 - val_loss: 1.6024 - val_accuracy: 0.4305\n",
            "Epoch 24/30\n",
            "1000/1000 [==============================] - 3s 3ms/step - loss: 1.5011 - accuracy: 0.4596 - val_loss: 1.5995 - val_accuracy: 0.4301\n",
            "Epoch 25/30\n",
            "1000/1000 [==============================] - 3s 3ms/step - loss: 1.4937 - accuracy: 0.4593 - val_loss: 1.6060 - val_accuracy: 0.4306\n",
            "Epoch 26/30\n",
            "1000/1000 [==============================] - 3s 3ms/step - loss: 1.4984 - accuracy: 0.4575 - val_loss: 1.5864 - val_accuracy: 0.4378\n",
            "Epoch 27/30\n",
            "1000/1000 [==============================] - 3s 3ms/step - loss: 1.4931 - accuracy: 0.4610 - val_loss: 1.6031 - val_accuracy: 0.4368\n",
            "Epoch 28/30\n",
            "1000/1000 [==============================] - 3s 3ms/step - loss: 1.4826 - accuracy: 0.4653 - val_loss: 1.6077 - val_accuracy: 0.4292\n",
            "Epoch 29/30\n",
            "1000/1000 [==============================] - 3s 3ms/step - loss: 1.4713 - accuracy: 0.4661 - val_loss: 1.5879 - val_accuracy: 0.4309\n",
            "Epoch 30/30\n",
            "1000/1000 [==============================] - 3s 3ms/step - loss: 1.4628 - accuracy: 0.4703 - val_loss: 1.6156 - val_accuracy: 0.4272\n"
          ],
          "name": "stdout"
        }
      ]
    },
    {
      "cell_type": "code",
      "metadata": {
        "id": "ot-yoUrzx3kw",
        "outputId": "57f8d279-faa2-4722-d69c-af3302739b4f",
        "colab": {
          "base_uri": "https://localhost:8080/",
          "height": 282
        }
      },
      "source": [
        "plt.plot(history.history['accuracy'], 'b-')\n",
        "plt.plot(history.history['val_accuracy'], 'r-')"
      ],
      "execution_count": 78,
      "outputs": [
        {
          "output_type": "execute_result",
          "data": {
            "text/plain": [
              "[<matplotlib.lines.Line2D at 0x7f94e338bd90>]"
            ]
          },
          "metadata": {
            "tags": []
          },
          "execution_count": 78
        },
        {
          "output_type": "display_data",
          "data": {
            "image/png": "[encoded data removed]",
            "text/plain": [
              "<Figure size 432x288 with 1 Axes>"
            ]
          },
          "metadata": {
            "tags": [],
            "needs_background": "light"
          }
        }
      ]
    },
    {
      "cell_type": "code",
      "metadata": {
        "id": "LYS9lcepyD2_",
        "outputId": "63c0b075-3e10-4847-bacd-7457bcacef36",
        "colab": {
          "base_uri": "https://localhost:8080/",
          "height": 282
        }
      },
      "source": [
        "plt.plot(history.history['loss'], 'b-')\n",
        "plt.plot(history.history['val_loss'], 'r-')"
      ],
      "execution_count": 79,
      "outputs": [
        {
          "output_type": "execute_result",
          "data": {
            "text/plain": [
              "[<matplotlib.lines.Line2D at 0x7f94e3361690>]"
            ]
          },
          "metadata": {
            "tags": []
          },
          "execution_count": 79
        },
        {
          "output_type": "display_data",
          "data": {
            "image/png": "[encoded data removed]",
            "text/plain": [
              "<Figure size 432x288 with 1 Axes>"
            ]
          },
          "metadata": {
            "tags": [],
            "needs_background": "light"
          }
        }
      ]
    },
    {
      "cell_type": "code",
      "metadata": {
        "id": "EqkcoWlcyFV9"
      },
      "source": [
        ""
      ],
      "execution_count": null,
      "outputs": []
    }
  ]
}